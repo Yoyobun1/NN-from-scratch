{
  "nbformat": 4,
  "nbformat_minor": 0,
  "metadata": {
    "colab": {
      "provenance": []
    },
    "kernelspec": {
      "name": "python3",
      "display_name": "Python 3"
    },
    "language_info": {
      "name": "python"
    }
  },
  "cells": [
    {
      "cell_type": "code",
      "source": [
        "import math\n",
        "\n",
        "def sigmoid(x):\n",
        "  return 1/(1+math.exp(-x))"
      ],
      "metadata": {
        "id": "lWpasx-Stdff"
      },
      "execution_count": null,
      "outputs": []
    },
    {
      "cell_type": "code",
      "source": [
        "def activate(inputs, weights):\n",
        "  # perfrom net inputs\n",
        "  h = 0\n",
        "  for x, w in zip(inputs, weights):\n",
        "    # net sum of input * weigths\n",
        "    h += x * w\n",
        "\n",
        "  # perform activation sigmoid\n",
        "  return sigmoid(h)"
      ],
      "metadata": {
        "id": "6q6L_quUs50M"
      },
      "execution_count": null,
      "outputs": []
    },
    {
      "cell_type": "code",
      "execution_count": null,
      "metadata": {
        "colab": {
          "base_uri": "https://localhost:8080/"
        },
        "id": "LDxydsLZsY2i",
        "outputId": "12c30e58-289c-4d87-e19b-0fe6f10d4f8a"
      },
      "outputs": [
        {
          "output_type": "stream",
          "name": "stdout",
          "text": [
            "0.610639233949222\n"
          ]
        }
      ],
      "source": [
        "if __name__ == \"__main__\":\n",
        "  inputs = [.5,.3,.2]\n",
        "  weights = [.4,.7,.2]\n",
        "  output = activate(inputs, weights)\n",
        "  print(output)"
      ]
    }
  ]
}