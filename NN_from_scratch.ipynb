{
  "nbformat": 4,
  "nbformat_minor": 0,
  "metadata": {
    "colab": {
      "provenance": []
    },
    "kernelspec": {
      "name": "python3",
      "display_name": "Python 3"
    },
    "language_info": {
      "name": "python"
    }
  },
  "cells": [
    {
      "cell_type": "code",
      "execution_count": null,
      "metadata": {
        "id": "n4xjDVp8yfKs"
      },
      "outputs": [],
      "source": [
        "import numpy as np"
      ]
    },
    {
      "cell_type": "code",
      "source": [
        "# implement back propogation\n",
        "# implement gradient descent\n",
        "# implement a training method\n",
        "# train with some dummy dataset\n",
        "# make predictions"
      ],
      "metadata": {
        "id": "lf2ceuqW-xge"
      },
      "execution_count": null,
      "outputs": []
    },
    {
      "cell_type": "code",
      "source": [
        "# Multi Layer Perceptron\n",
        "class MLP:\n",
        "  def __init__(self, num_inputs=3, num_hidden=[3,5], num_outputs=2):\n",
        "    self.num_inputs = num_inputs\n",
        "    self.num_hidden = num_hidden\n",
        "    self.num_outputs = num_outputs\n",
        "\n",
        "    layers = [self.num_inputs] + self.num_hidden + [self.num_outputs]\n",
        "\n",
        "    # initiate random weights\n",
        "    self.weights = []\n",
        "\n",
        "    # creating a matrix of random weights for each layer\n",
        "    for i in range(len(layers)-1):\n",
        "      w = np.random.rand(layers[i], layers[i+1])\n",
        "      # creates a 2D matrix with dimension layer[i] x layers[i + 1]\n",
        "      # making each output having weights for all inputs\n",
        "      # of next layer to compute input * weight\n",
        "      self.weights.append(w)\n",
        "\n",
        "\n",
        "    # creating 0 matrices for each hidden layer with appropriate amount of\n",
        "    # zeroes for each activation / input\n",
        "    activations = []\n",
        "    for i in range(len(layers)):\n",
        "      a = np.zeros(layers[i])\n",
        "      activations.append(a)\n",
        "      # arrays in a list where each array is the activation of each\n",
        "      # layer\n",
        "    self.activations = activations\n",
        "\n",
        "    # creating 0 matrices for each hidden layer with appropriate amount of\n",
        "    # zeroes for derivatives of each hidden layer\n",
        "    derivatives = []\n",
        "    for i in range(len(layers) - 1):\n",
        "      b = np.zeros((layers[i], layers[i+1]))\n",
        "      derivatives.append(b)\n",
        "      # arrays in a list where each array is the activation of each\n",
        "      # layer\n",
        "    self.derivatives = derivatives\n",
        "\n",
        "  def sigmoid(self, x):\n",
        "    return 1.0 / (1 + np.exp(-x))\n",
        "\n",
        "  def forward_propagation(self, inputs):\n",
        "    # the input layer activation is just the input itself\n",
        "    activations = inputs\n",
        "    self.activations[0] = inputs\n",
        "\n",
        "    for i, w in enumerate(self.weights):\n",
        "      # calculate inputs for each neuron\n",
        "      net_inputs = np.dot(activations, w)\n",
        "      # applying activation function to each neuron in the layer\n",
        "      activations = self.sigmoid(net_inputs)\n",
        "      self.activations[i + 1] = activations\n",
        "    return activations\n",
        "\n",
        "\n",
        "  def back_propagation(self, error):\n",
        "\n",
        "    # dE/dW_i = (y - a[i+1]) s'(h(i+1)).a_i\n",
        "    # s'(h(i+1)) = s(h(i+1))(1 - s(h(i+1)))\n",
        "    #s(h(i + 1)) = a_(i+1)\n",
        "\n",
        "    for i in reversed(range(len(self.derivatives))):\n",
        "      # moving from output layer to the inner layers\n",
        "      activations = self.activations[i+1]\n",
        "      delta = error * self.sigmoid_derivative(activations)\n",
        "      current_activations = self.activations[i]\n",
        "\n",
        "      self.derivatives[i] = np.dot(current_activations, delta)\n",
        "\n",
        "  def sigmoid_derivative(self, x):\n",
        "    return x * (1.0 - x)"
      ],
      "metadata": {
        "id": "fCI9aylTPmkZ"
      },
      "execution_count": null,
      "outputs": []
    },
    {
      "cell_type": "code",
      "source": [
        "if __name__ == \"__main__\":\n",
        "  # create an MLP\n",
        "  mlp = MLP()\n",
        "\n",
        "  # create some inputs\n",
        "  inputs = np.random.rand(mlp.num_inputs)\n",
        "\n",
        "  # perform forward propogation\n",
        "  outputs = mlp.forward_propagation(inputs)\n",
        "  # print results\n",
        "  print(\"The network input is: {}\".format(inputs))\n",
        "  print(\"The network output is: {}\".format(outputs))"
      ],
      "metadata": {
        "colab": {
          "base_uri": "https://localhost:8080/"
        },
        "id": "aloZucoyQbwO",
        "outputId": "0b0f81a4-d019-46f7-d9e3-12144da0f7d4"
      },
      "execution_count": null,
      "outputs": [
        {
          "output_type": "stream",
          "name": "stdout",
          "text": [
            "The network input is: [0.44220267 0.50018182 0.05924555]\n",
            "The network output is: [0.79918574 0.80279693]\n"
          ]
        }
      ]
    },
    {
      "cell_type": "code",
      "source": [],
      "metadata": {
        "id": "hGkzIfbHS_H3"
      },
      "execution_count": null,
      "outputs": []
    }
  ]
}